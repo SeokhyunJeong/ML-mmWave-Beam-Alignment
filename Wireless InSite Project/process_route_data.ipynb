{
 "cells": [
  {
   "cell_type": "code",
   "execution_count": 5,
   "metadata": {},
   "outputs": [
    {
     "name": "stdout",
     "output_type": "stream",
     "text": [
      "total number of rx:  3145\n",
      "3144\n"
     ]
    }
   ],
   "source": [
    "%matplotlib inline\n",
    "import matplotlib as mpl\n",
    "import matplotlib.cm as cm\n",
    "import numpy as np\n",
    "import matplotlib.pyplot as plt\n",
    "import csv\n",
    "import numpy as np\n",
    "import os\n",
    "\n",
    "\n",
    "def cart2sph(xyz,center):\n",
    "    x = np.subtract(xyz[:,0],center[0])\n",
    "    y = np.subtract(xyz[:,1],center[1])\n",
    "    z = np.subtract(xyz[:,2],center[2])\n",
    "    rtp = np.zeros(xyz.shape)\n",
    "    r = np.sqrt(np.power(x,2)+np.power(y,2)+np.power(z,2))\n",
    "    theta = np.arccos(np.divide(z,r))\n",
    "    #phi = np.arctan(np.divide(y,x))\n",
    "    phi = np.arctan2(y,x)\n",
    "    rtp[:,0] = r\n",
    "    rtp[:,1] = theta\n",
    "    rtp[:,2] = phi\n",
    "    return rtp\n",
    "    \n",
    "tx_loc = [578.121009649043120, 557.409398267150100, 10.000000000000000]\n",
    "\n",
    "pg_file_path = r'D:\\Remcom Simulations\\Mimo_Tutorial\\Omni BS Omni Rx Route\\MIMO_Example_Rosslyn.pg.t001_06.r005.p2m'\n",
    "pg_raw_data = open(pg_file_path, 'r')\n",
    "pg_reader = csv.reader(pg_raw_data, delimiter=' ', quoting=csv.QUOTE_NONE)\n",
    "all_pg = list(pg_reader)\n",
    "all_location_data = np.array(all_pg[2:]).astype('float')\n",
    "nrx = all_location_data.shape[0]\n",
    "print('total number of rx: ', nrx)\n",
    "study_area_dir = r'D:\\Remcom Simulations\\Mimo_Tutorial\\MIMO 16x16 Omni Rx Route'\n",
    "valid_rx_pt = [];\n",
    "for i in range(nrx-1):\n",
    "    datarow = np.zeros(6);\n",
    "    h_path = 'hmatrix\\\\hmatrix.txSet004.txPt001.rxSet005.rxPt{0}.inst001.csv'.format(str(i+1).zfill(3))\n",
    "    abs_h_path = os.path.join(study_area_dir, h_path)\n",
    "    raw_h_data = open(abs_h_path, 'rt')\n",
    "    h_reader = csv.reader(raw_h_data, delimiter=',', quoting=csv.QUOTE_NONE)\n",
    "    h = list(h_reader)\n",
    "    h = np.array(h).astype('float')\n",
    "    if np.count_nonzero(h) != 0:\n",
    "        valid_rx_pt.append(i)\n",
    "nvalid_rx_pt = len(valid_rx_pt) \n",
    "print(nvalid_rx_pt)\n",
    "data = np.zeros((nvalid_rx_pt,7))\n",
    "channels = np.zeros((nvalid_rx_pt,2,256))\n",
    "for j in range(nvalid_rx_pt):\n",
    "    i = valid_rx_pt[j]\n",
    "    #MISO original\n",
    "    #rel_path = 'H\\\\hmatrix\\\\hmatrix.txSet011.txPt001.rxSet046.rxPt{0}.inst001.csv'.format(str(i+1).zfill(3))\n",
    "    #MISO rotated\n",
    "    h_path = 'hmatrix\\\\hmatrix.txSet004.txPt001.rxSet005.rxPt{0}.inst001.csv'.format(str(i+1).zfill(3))\n",
    "    abs_h_path = os.path.join(study_area_dir, h_path)\n",
    "    raw_h_data = open(abs_h_path, 'rt')\n",
    "    h_reader = csv.reader(raw_h_data, delimiter=',', quoting=csv.QUOTE_NONE)\n",
    "    h = list(h_reader)\n",
    "    h = np.array(h).astype('float')\n",
    "#     h = h[:,0]+1j*h[:,1]\n",
    "#     h=h.reshape((256,1))\n",
    "    channels[j,0,:] = h[:,0]\n",
    "    channels[j,1,:] = h[:,1]\n",
    "    "
   ]
  },
  {
   "cell_type": "code",
   "execution_count": 20,
   "metadata": {},
   "outputs": [],
   "source": [
    "from scipy.io import savemat\n",
    "processed_data = {'channel':channels, 'tx_loc':tx_loc, 'valid_rx_idx':valid_rx_pt,'rx_loc_all':all_location_data[:,1:4]}\n",
    "savemat('route_data.mat',processed_data)"
   ]
  },
  {
   "cell_type": "code",
   "execution_count": 21,
   "metadata": {},
   "outputs": [
    {
     "data": {
      "text/plain": [
       "array([[596.182 , 661.779 ,  40.2026],\n",
       "       [596.179 , 661.679 ,  40.2092],\n",
       "       [596.176 , 661.579 ,  40.2158],\n",
       "       ...,\n",
       "       [607.149 , 463.182 ,  48.9735],\n",
       "       [607.05  , 463.164 ,  48.9879],\n",
       "       [606.952 , 463.146 ,  49.0023]])"
      ]
     },
     "execution_count": 21,
     "metadata": {},
     "output_type": "execute_result"
    }
   ],
   "source": [
    "processed_data['rx_loc_all']\n"
   ]
  },
  {
   "cell_type": "code",
   "execution_count": 94,
   "metadata": {},
   "outputs": [],
   "source": [
    "#import modules\n",
    "import re\n",
    "import xml.etree.ElementTree as ET\n",
    "import os\n",
    "import numpy as np\n",
    "\n",
    "study_area_placement = re.compile(r\"(end_<studyarea>)\\n(begin_<feature>)\")\n",
    "study_area_section = re.compile(r\"begin_<studyarea>.*?end_<studyarea>\", re.DOTALL)\n",
    "\n",
    "study_area = \"D:\\Remcom Simulations\\Mimo_Tutorial\\MIMO_Example_Rosslyn.Test.xml\"\n",
    "\n",
    "#txrx_move = True\n",
    "#txrx_index = \"1\"\n",
    "\n",
    "#study_area_directory = os.path.(study_area)\n",
    "study_area_filename = os.path.basename(study_area)\n",
    "# split_study_area = os.path.splitexdirnamet(study_area)\n",
    "# study_area_filename_split = study_area_filename.split(\".\")\n",
    "\n",
    "    \n",
    "# with open(study_area) as f:\n",
    "#     study_area_content = f.readlines()\n",
    "\n",
    "#     #modify .xml to change the study area and object used    \n",
    "#     tree = ET.parse(study_area)\n",
    "#     #change the output location by adding an index to the directory\n",
    "#     for element_outputlocation in tree.find(\"Job/OutputLocation\"):\n",
    "#         element_outputlocation.set(\"Value\", element_outputlocation.get(\"Value\") + \" \" + str(index))\n",
    "#         print(element_outputlocation.attrib)\n",
    "#     #add index to the output prefix to identify files\n",
    "#     for element_outputprefix in tree.find(\"Job/OutputPrefix\"):\n",
    "#         element_outputprefix.set(\"Value\", element_outputprefix.get(\"Value\") + \" \" + str(index))\n",
    "#         print(element_outputprefix.attrib)\n",
    "#     #add index to the sqlite database to identify it\n",
    "#     for element_databaselocation in tree.find(\"Job/PathResultsDatabase/PathResultsDatabase/Filename/FileDescription/Filename\"):\n",
    "#         element_databaselocation.set(\"Value\", \"./\" + element_outputlocation.get(\"Value\")+ \"/\" + element_outputprefix.get(\"Value\") + \".\" + element_outputlocation.get(\"Value\") + \".sqlite\")\n",
    "#         print(element_databaselocation.attrib)\n",
    "#     new_study_area_path = split_study_area[0] + \" \" + str(index) + split_study_area[1]\n",
    "#     tree.write(open(new_study_area_path, \"w\"), encoding='unicode')\n",
    "        \n",
    "#     #modify .setup to add the new study area to the project\n",
    "#     #duplicate existing study area and increment index\n",
    "#     setup_content = re.sub(r\"FirstAvailableStudyAreaNumber.+\", \"FirstAvailableStudyAreaNumber \" + str(index), setup_content)\n",
    "#     for match in study_area_section.finditer(setup_content):\n",
    "#         study_area_match = \"\\n\"+match.group(0)+\"\\n\"\n",
    "#         #TODO this regex doesn't match well\n",
    "#         study_area_match = re.sub(r\"(begin_<studyarea>.+)\", r\"\\g<0> \" + str(index), study_area_match)\n",
    "#         study_area_match = re.sub(r\"(StudyAreaNumber\\s)(\\d+)\", r\"StudyAreaNumber \" + str(index), study_area_match)\n",
    "#     #insert new study area after the last one\n",
    "#     for study_area_placement_bounds in study_area_placement.finditer(setup_content):\n",
    "#         study_area_match_top, study_area_match_bottom = study_area_placement_bounds.groups()\n",
    "#     setup_content = study_area_placement.sub(study_area_match_top + study_area_match + study_area_match_bottom, setup_content)\n",
    "#     out_object = open(setup,'w')\n",
    "#     out_object.writelines(setup_content)\n",
    "#     out_object.close()\n",
    "\n",
    "#     i += 1\n",
    "#     index += 1\n"
   ]
  },
  {
   "cell_type": "code",
   "execution_count": 95,
   "metadata": {},
   "outputs": [],
   "source": [
    "tree = ET.parse(study_area)"
   ]
  },
  {
   "cell_type": "code",
   "execution_count": 73,
   "metadata": {},
   "outputs": [
    {
     "name": "stdout",
     "output_type": "stream",
     "text": [
      "0\n"
     ]
    }
   ],
   "source": [
    "for element in tree.find(\"Job/Scene/Scene/AntennaList/AntennaList/Antenna/MIMO/MIMOElement/MIMOElement/Offset/Tuple3/X\"):\n",
    "    print(element.attrib['Value'])"
   ]
  },
  {
   "cell_type": "code",
   "execution_count": 75,
   "metadata": {},
   "outputs": [
    {
     "name": "stdout",
     "output_type": "stream",
     "text": [
      "Job {}\n"
     ]
    }
   ],
   "source": [
    "for element in tree.iter('Job'):\n",
    "    print(element.tag, element.attrib)"
   ]
  },
  {
   "cell_type": "code",
   "execution_count": 102,
   "metadata": {},
   "outputs": [],
   "source": [
    "ele_pos = np.zeros((3,256))\n",
    "i = 0\n",
    "for element in tree.iterfind('Job/Scene/Scene/AntennaList/AntennaList/Antenna/MIMO/MIMOElement/MIMOElement/Offset/Tuple3/X/'):\n",
    "#     print(i,element.attrib['Value'])\n",
    "    ele_pos[0,i] = element.attrib['Value']\n",
    "    i+=1\n",
    "i = 0\n",
    "for element in tree.iterfind('Job/Scene/Scene/AntennaList/AntennaList/Antenna/MIMO/MIMOElement/MIMOElement/Offset/Tuple3/Y/'):\n",
    "#     print(i,element.attrib['Value'])\n",
    "    ele_pos[1,i] = element.attrib['Value']\n",
    "    i+=1\n",
    "i = 0\n",
    "for element in tree.iterfind('Job/Scene/Scene/AntennaList/AntennaList/Antenna/MIMO/MIMOElement/MIMOElement/Offset/Tuple3/Z/'):\n",
    "#     print(i,element.attrib['Value'])\n",
    "    ele_pos[2,i] = element.attrib['Value']\n",
    "    i+=1\n",
    "    "
   ]
  },
  {
   "cell_type": "code",
   "execution_count": 89,
   "metadata": {},
   "outputs": [
    {
     "name": "stdout",
     "output_type": "stream",
     "text": [
      "<Element 'X' at 0x000002A4E15BE4F8>\n",
      "<Element 'Y' at 0x000002A4E15BE598>\n",
      "<Element 'Z' at 0x000002A4E15BE638>\n"
     ]
    }
   ],
   "source": [
    "for loc in element.getchildren():\n",
    "    print(loc)"
   ]
  },
  {
   "cell_type": "code",
   "execution_count": 93,
   "metadata": {},
   "outputs": [
    {
     "data": {
      "text/plain": [
       "<function Element.getchildren()>"
      ]
     },
     "execution_count": 93,
     "metadata": {},
     "output_type": "execute_result"
    }
   ],
   "source": [
    "loc."
   ]
  },
  {
   "cell_type": "code",
   "execution_count": 106,
   "metadata": {},
   "outputs": [
    {
     "data": {
      "text/plain": [
       "array([-0.0401508 , -0.0347973 , -0.0294439 , -0.0240905 , -0.018737  ,\n",
       "       -0.0133836 , -0.00803016, -0.00267672,  0.00267672,  0.00803016,\n",
       "        0.0133836 ,  0.018737  ,  0.0240905 ,  0.0294439 ,  0.0347973 ,\n",
       "        0.0401508 , -0.0401508 , -0.0347973 , -0.0294439 , -0.0240905 ,\n",
       "       -0.018737  , -0.0133836 , -0.00803016, -0.00267672,  0.00267672,\n",
       "        0.00803016,  0.0133836 ,  0.018737  ,  0.0240905 ,  0.0294439 ,\n",
       "        0.0347973 ,  0.0401508 , -0.0401508 , -0.0347973 , -0.0294439 ,\n",
       "       -0.0240905 , -0.018737  , -0.0133836 , -0.00803016, -0.00267672,\n",
       "        0.00267672,  0.00803016,  0.0133836 ,  0.018737  ,  0.0240905 ,\n",
       "        0.0294439 ,  0.0347973 ,  0.0401508 , -0.0401508 , -0.0347973 ,\n",
       "       -0.0294439 , -0.0240905 , -0.018737  , -0.0133836 , -0.00803016,\n",
       "       -0.00267672,  0.00267672,  0.00803016,  0.0133836 ,  0.018737  ,\n",
       "        0.0240905 ,  0.0294439 ,  0.0347973 ,  0.0401508 , -0.0401508 ,\n",
       "       -0.0347973 , -0.0294439 , -0.0240905 , -0.018737  , -0.0133836 ,\n",
       "       -0.00803016, -0.00267672,  0.00267672,  0.00803016,  0.0133836 ,\n",
       "        0.018737  ,  0.0240905 ,  0.0294439 ,  0.0347973 ,  0.0401508 ,\n",
       "       -0.0401508 , -0.0347973 , -0.0294439 , -0.0240905 , -0.018737  ,\n",
       "       -0.0133836 , -0.00803016, -0.00267672,  0.00267672,  0.00803016,\n",
       "        0.0133836 ,  0.018737  ,  0.0240905 ,  0.0294439 ,  0.0347973 ,\n",
       "        0.0401508 , -0.0401508 , -0.0347973 , -0.0294439 , -0.0240905 ,\n",
       "       -0.018737  , -0.0133836 , -0.00803016, -0.00267672,  0.00267672,\n",
       "        0.00803016,  0.0133836 ,  0.018737  ,  0.0240905 ,  0.0294439 ,\n",
       "        0.0347973 ,  0.0401508 , -0.0401508 , -0.0347973 , -0.0294439 ,\n",
       "       -0.0240905 , -0.018737  , -0.0133836 , -0.00803016, -0.00267672,\n",
       "        0.00267672,  0.00803016,  0.0133836 ,  0.018737  ,  0.0240905 ,\n",
       "        0.0294439 ,  0.0347973 ,  0.0401508 , -0.0401508 , -0.0347973 ,\n",
       "       -0.0294439 , -0.0240905 , -0.018737  , -0.0133836 , -0.00803016,\n",
       "       -0.00267672,  0.00267672,  0.00803016,  0.0133836 ,  0.018737  ,\n",
       "        0.0240905 ,  0.0294439 ,  0.0347973 ,  0.0401508 , -0.0401508 ,\n",
       "       -0.0347973 , -0.0294439 , -0.0240905 , -0.018737  , -0.0133836 ,\n",
       "       -0.00803016, -0.00267672,  0.00267672,  0.00803016,  0.0133836 ,\n",
       "        0.018737  ,  0.0240905 ,  0.0294439 ,  0.0347973 ,  0.0401508 ,\n",
       "       -0.0401508 , -0.0347973 , -0.0294439 , -0.0240905 , -0.018737  ,\n",
       "       -0.0133836 , -0.00803016, -0.00267672,  0.00267672,  0.00803016,\n",
       "        0.0133836 ,  0.018737  ,  0.0240905 ,  0.0294439 ,  0.0347973 ,\n",
       "        0.0401508 , -0.0401508 , -0.0347973 , -0.0294439 , -0.0240905 ,\n",
       "       -0.018737  , -0.0133836 , -0.00803016, -0.00267672,  0.00267672,\n",
       "        0.00803016,  0.0133836 ,  0.018737  ,  0.0240905 ,  0.0294439 ,\n",
       "        0.0347973 ,  0.0401508 , -0.0401508 , -0.0347973 , -0.0294439 ,\n",
       "       -0.0240905 , -0.018737  , -0.0133836 , -0.00803016, -0.00267672,\n",
       "        0.00267672,  0.00803016,  0.0133836 ,  0.018737  ,  0.0240905 ,\n",
       "        0.0294439 ,  0.0347973 ,  0.0401508 , -0.0401508 , -0.0347973 ,\n",
       "       -0.0294439 , -0.0240905 , -0.018737  , -0.0133836 , -0.00803016,\n",
       "       -0.00267672,  0.00267672,  0.00803016,  0.0133836 ,  0.018737  ,\n",
       "        0.0240905 ,  0.0294439 ,  0.0347973 ,  0.0401508 , -0.0401508 ,\n",
       "       -0.0347973 , -0.0294439 , -0.0240905 , -0.018737  , -0.0133836 ,\n",
       "       -0.00803016, -0.00267672,  0.00267672,  0.00803016,  0.0133836 ,\n",
       "        0.018737  ,  0.0240905 ,  0.0294439 ,  0.0347973 ,  0.0401508 ,\n",
       "       -0.0401508 , -0.0347973 , -0.0294439 , -0.0240905 , -0.018737  ,\n",
       "       -0.0133836 , -0.00803016, -0.00267672,  0.00267672,  0.00803016,\n",
       "        0.0133836 ,  0.018737  ,  0.0240905 ,  0.0294439 ,  0.0347973 ,\n",
       "        0.0401508 ])"
      ]
     },
     "execution_count": 106,
     "metadata": {},
     "output_type": "execute_result"
    }
   ],
   "source": [
    "ele_pos[2,:]"
   ]
  },
  {
   "cell_type": "code",
   "execution_count": 107,
   "metadata": {},
   "outputs": [],
   "source": [
    "from scipy.io import savemat\n",
    "processed_data = {'channel':channels, 'tx_loc':tx_loc, 'valid_rx_idx':valid_rx_pt,'rx_loc_all':all_location_data[:,1:4],'tx_ele_pos':ele_pos}\n",
    "savemat('route_data.mat',processed_data)"
   ]
  },
  {
   "cell_type": "code",
   "execution_count": 109,
   "metadata": {},
   "outputs": [
    {
     "data": {
      "text/plain": [
       "(3, 256)"
      ]
     },
     "execution_count": 109,
     "metadata": {},
     "output_type": "execute_result"
    }
   ],
   "source": [
    "processed_data['tx_ele_pos'].shape"
   ]
  },
  {
   "cell_type": "code",
   "execution_count": null,
   "metadata": {},
   "outputs": [],
   "source": []
  }
 ],
 "metadata": {
  "kernelspec": {
   "display_name": "Python 3",
   "language": "python",
   "name": "python3"
  },
  "language_info": {
   "codemirror_mode": {
    "name": "ipython",
    "version": 3
   },
   "file_extension": ".py",
   "mimetype": "text/x-python",
   "name": "python",
   "nbconvert_exporter": "python",
   "pygments_lexer": "ipython3",
   "version": "3.6.8"
  }
 },
 "nbformat": 4,
 "nbformat_minor": 2
}
