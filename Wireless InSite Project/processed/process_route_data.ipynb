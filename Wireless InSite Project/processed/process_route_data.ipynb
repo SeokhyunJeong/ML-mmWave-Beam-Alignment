{
 "cells": [
  {
   "cell_type": "code",
   "execution_count": 5,
   "metadata": {},
   "outputs": [
    {
     "name": "stdout",
     "output_type": "stream",
     "text": [
      "total number of rx:  3145\n",
      "3144\n"
     ]
    }
   ],
   "source": [
    "%matplotlib inline\n",
    "import matplotlib as mpl\n",
    "import matplotlib.cm as cm\n",
    "import numpy as np\n",
    "import matplotlib.pyplot as plt\n",
    "import csv\n",
    "import numpy as np\n",
    "import os\n",
    "\n",
    "\n",
    "def cart2sph(xyz,center):\n",
    "    x = np.subtract(xyz[:,0],center[0])\n",
    "    y = np.subtract(xyz[:,1],center[1])\n",
    "    z = np.subtract(xyz[:,2],center[2])\n",
    "    rtp = np.zeros(xyz.shape)\n",
    "    r = np.sqrt(np.power(x,2)+np.power(y,2)+np.power(z,2))\n",
    "    theta = np.arccos(np.divide(z,r))\n",
    "    #phi = np.arctan(np.divide(y,x))\n",
    "    phi = np.arctan2(y,x)\n",
    "    rtp[:,0] = r\n",
    "    rtp[:,1] = theta\n",
    "    rtp[:,2] = phi\n",
    "    return rtp\n",
    "    \n",
    "tx_loc = [578.121009649043120, 557.409398267150100, 10.000000000000000]\n",
    "\n",
    "pg_file_path = r'D:\\Remcom Simulations\\Mimo_Tutorial\\Omni BS Omni Rx Route\\MIMO_Example_Rosslyn.pg.t001_06.r005.p2m'\n",
    "pg_raw_data = open(pg_file_path, 'r')\n",
    "pg_reader = csv.reader(pg_raw_data, delimiter=' ', quoting=csv.QUOTE_NONE)\n",
    "all_pg = list(pg_reader)\n",
    "all_location_data = np.array(all_pg[2:]).astype('float')\n",
    "nrx = all_location_data.shape[0]\n",
    "print('total number of rx: ', nrx)\n",
    "study_area_dir = r'D:\\Remcom Simulations\\Mimo_Tutorial\\MIMO 16x16 Omni Rx Route'\n",
    "valid_rx_pt = [];\n",
    "for i in range(nrx-1):\n",
    "    datarow = np.zeros(6);\n",
    "    h_path = 'hmatrix\\\\hmatrix.txSet004.txPt001.rxSet005.rxPt{0}.inst001.csv'.format(str(i+1).zfill(3))\n",
    "    abs_h_path = os.path.join(study_area_dir, h_path)\n",
    "    raw_h_data = open(abs_h_path, 'rt')\n",
    "    h_reader = csv.reader(raw_h_data, delimiter=',', quoting=csv.QUOTE_NONE)\n",
    "    h = list(h_reader)\n",
    "    h = np.array(h).astype('float')\n",
    "    if np.count_nonzero(h) != 0:\n",
    "        valid_rx_pt.append(i)\n",
    "nvalid_rx_pt = len(valid_rx_pt) \n",
    "print(nvalid_rx_pt)\n",
    "data = np.zeros((nvalid_rx_pt,7))\n",
    "channels = np.zeros((nvalid_rx_pt,2,256))\n",
    "for j in range(nvalid_rx_pt):\n",
    "    i = valid_rx_pt[j]\n",
    "    #MISO original\n",
    "    #rel_path = 'H\\\\hmatrix\\\\hmatrix.txSet011.txPt001.rxSet046.rxPt{0}.inst001.csv'.format(str(i+1).zfill(3))\n",
    "    #MISO rotated\n",
    "    h_path = 'hmatrix\\\\hmatrix.txSet004.txPt001.rxSet005.rxPt{0}.inst001.csv'.format(str(i+1).zfill(3))\n",
    "    abs_h_path = os.path.join(study_area_dir, h_path)\n",
    "    raw_h_data = open(abs_h_path, 'rt')\n",
    "    h_reader = csv.reader(raw_h_data, delimiter=',', quoting=csv.QUOTE_NONE)\n",
    "    h = list(h_reader)\n",
    "    h = np.array(h).astype('float')\n",
    "#     h = h[:,0]+1j*h[:,1]\n",
    "#     h=h.reshape((256,1))\n",
    "    channels[j,0,:] = h[:,0]\n",
    "    channels[j,1,:] = h[:,1]\n",
    "    "
   ]
  },
  {
   "cell_type": "code",
   "execution_count": 12,
   "metadata": {},
   "outputs": [],
   "source": [
    "from scipy.io import savemat\n",
    "processed_data = {'channel':channels, 'tx_loc':tx_loc, 'valid_rx_idx':valid_rx_pt,'rx_loc_all':all_location_data[:,1:4]}\n",
    "savemat('route_data.mat',processed_data)"
   ]
  },
  {
   "cell_type": "code",
   "execution_count": 19,
   "metadata": {},
   "outputs": [
    {
     "data": {
      "text/plain": [
       "array([[ 1.00000e+00,  5.96182e+02,  6.61779e+02,  4.02026e+01,\n",
       "         0.00000e+00, -9.58328e+01],\n",
       "       [ 2.00000e+00,  5.96179e+02,  6.61679e+02,  4.02092e+01,\n",
       "         1.00000e-01, -9.69864e+01],\n",
       "       [ 3.00000e+00,  5.96176e+02,  6.61579e+02,  4.02158e+01,\n",
       "         2.00000e-01, -1.01993e+02],\n",
       "       ...,\n",
       "       [ 3.14300e+03,  6.07149e+02,  4.63182e+02,  4.89735e+01,\n",
       "         3.14200e+02, -9.63907e+01],\n",
       "       [ 3.14400e+03,  6.07050e+02,  4.63164e+02,  4.89879e+01,\n",
       "         3.14300e+02, -9.46095e+01],\n",
       "       [ 3.14500e+03,  6.06952e+02,  4.63146e+02,  4.90023e+01,\n",
       "         3.14400e+02, -9.82402e+01]])"
      ]
     },
     "execution_count": 19,
     "metadata": {},
     "output_type": "execute_result"
    }
   ],
   "source": [
    "processed_data['rx_loc_all']\n"
   ]
  },
  {
   "cell_type": "code",
   "execution_count": null,
   "metadata": {},
   "outputs": [],
   "source": []
  }
 ],
 "metadata": {
  "kernelspec": {
   "display_name": "Python 3",
   "language": "python",
   "name": "python3"
  },
  "language_info": {
   "codemirror_mode": {
    "name": "ipython",
    "version": 3
   },
   "file_extension": ".py",
   "mimetype": "text/x-python",
   "name": "python",
   "nbconvert_exporter": "python",
   "pygments_lexer": "ipython3",
   "version": "3.6.8"
  }
 },
 "nbformat": 4,
 "nbformat_minor": 2
}
