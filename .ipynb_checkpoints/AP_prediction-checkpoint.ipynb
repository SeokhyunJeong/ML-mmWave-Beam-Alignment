{
 "cells": [
  {
   "cell_type": "code",
   "execution_count": null,
   "metadata": {},
   "outputs": [],
   "source": [
    "\"\"\"\n",
    "Author: Yuqiang (Ethan) Heng\n",
    "\"\"\"\n",
    "import numpy as np\n",
    "from sklearn.preprocessing import LabelEncoder\n",
    "from sklearn.model_selection import train_test_split\n",
    "from keras.layers import Dense\n",
    "from keras.models import Model\n",
    "from keras.layers import Input\n",
    "from keras import backend as K\n",
    "from keras.utils import np_utils\n",
    "\n",
    "def cart2sph(xyz,center):\n",
    "    x = np.subtract(xyz[:,0],center[0])\n",
    "    y = np.subtract(xyz[:,1],center[1])\n",
    "    z = np.subtract(xyz[:,2],center[2])\n",
    "    rtp = np.zeros(xyz.shape)\n",
    "    r = np.sqrt(np.power(x,2)+np.power(y,2)+np.power(z,2))\n",
    "    theta = np.arccos(np.divide(z,r))\n",
    "    phi = np.arctan2(y,x)\n",
    "    rtp[:,0] = r\n",
    "    rtp[:,1] = theta\n",
    "    rtp[:,2] = phi\n",
    "    return rtp"
   ]
  },
  {
   "cell_type": "code",
   "execution_count": null,
   "metadata": {},
   "outputs": [],
   "source": [
    "dataset = np.load('./Dataset/MISO_AP_selection_processed_cartesian.npy')\n",
    "X_cart = dataset[:,:3]\n",
    "X_cart = X_cart + np.random.normal(0,2.0409,X_cart.shape)\n",
    "nap = 16\n",
    "ap_coordinates = np.zeros((nap,3))\n",
    "for i in range(4):\n",
    "    for j in range(4):\n",
    "        ap_coordinates[i*4+j,0] = 506.743561 + 75*j\n",
    "        ap_coordinates[i*4+j,1] = 426.086060 + 75*i\n",
    "X = np.concatenate([cart2sph(X_cart,ap_coordinates[i,:]) for i in range(nap)],axis=1)\n",
    "        \n",
    "Y = dataset[:,3]\n",
    "# encode class values as integers and convert to one-hot vectors\n",
    "encoder = LabelEncoder()\n",
    "encoder.fit(Y)\n",
    "Y_onehot = np_utils.to_categorical(encoder.transform(Y))\n",
    "# 0.8/0.1/0.1 train/val/test split\n",
    "X_train, X_tmp, Y_train, Y_tmp = train_test_split(X, Y_onehot, test_size=0.2)\n",
    "X_val, X_test, Y_val, Y_test = train_test_split(X_tmp, Y_tmp, test_size=0.5)   "
   ]
  },
  {
   "cell_type": "code",
   "execution_count": null,
   "metadata": {},
   "outputs": [],
   "source": [
    "K.clear_session()\n",
    "input_location = Input(shape=(X_train.shape[1],))\n",
    "dense1 = Dense(48, activation ='sigmoid')(input_location)\n",
    "dense2 = Dense(48, activation = 'sigmoid')(dense1)\n",
    "dense3 = Dense(32, activation = 'sigmoid')(dense2)\n",
    "dense4 = Dense(24, activation = 'sigmoid')(dense3)\n",
    "output = Dense(nap, activation = 'softmax')(dense4)\n",
    "model = Model(inputs = input_location, outputs = output)\n",
    "model.compile(loss='categorical_crossentropy', optimizer='adam', metrics=['accuracy'])\n",
    "model.fit(X_train, Y_train, validation_data = (X_val, Y_val), epochs = 20, batch_size = 100)"
   ]
  },
  {
   "cell_type": "code",
   "execution_count": null,
   "metadata": {},
   "outputs": [],
   "source": []
  }
 ],
 "metadata": {
  "kernelspec": {
   "display_name": "Python 3",
   "language": "python",
   "name": "python3"
  },
  "language_info": {
   "codemirror_mode": {
    "name": "ipython",
    "version": 3
   },
   "file_extension": ".py",
   "mimetype": "text/x-python",
   "name": "python",
   "nbconvert_exporter": "python",
   "pygments_lexer": "ipython3",
   "version": "3.6.8"
  }
 },
 "nbformat": 4,
 "nbformat_minor": 2
}
